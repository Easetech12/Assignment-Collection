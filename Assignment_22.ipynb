{
 "cells": [
  {
   "cell_type": "markdown",
   "id": "05011adf",
   "metadata": {},
   "source": [
    "### 1. Problem"
   ]
  },
  {
   "cell_type": "code",
   "execution_count": null,
   "id": "82927b76",
   "metadata": {},
   "outputs": [],
   "source": [
    "# 1. What is the result of the code, and explain?"
   ]
  },
  {
   "cell_type": "markdown",
   "id": "d8d767e3",
   "metadata": {},
   "source": [
    "### Solution -"
   ]
  },
  {
   "cell_type": "code",
   "execution_count": 1,
   "id": "8b77e1e4",
   "metadata": {},
   "outputs": [],
   "source": [
    "x = 'iNeuron'\n",
    "def func():\n",
    "    print(x)"
   ]
  },
  {
   "cell_type": "code",
   "execution_count": 2,
   "id": "8b68b964",
   "metadata": {
    "scrolled": true
   },
   "outputs": [
    {
     "name": "stdout",
     "output_type": "stream",
     "text": [
      "iNeuron\n"
     ]
    }
   ],
   "source": [
    "func()"
   ]
  },
  {
   "cell_type": "code",
   "execution_count": null,
   "id": "8e0d7302",
   "metadata": {},
   "outputs": [],
   "source": [
    "\"\"\"\n",
    "The Result of this code is iNeuron, it's because the function intially looks for the variable X in its local scope,\n",
    "But since there is no local variable X, its returns the value of global variable x ie iNeuron\n",
    "\"\"\""
   ]
  },
  {
   "cell_type": "markdown",
   "id": "d4c8613b",
   "metadata": {},
   "source": [
    "### 2. Problem"
   ]
  },
  {
   "cell_type": "code",
   "execution_count": null,
   "id": "99bd3973",
   "metadata": {},
   "outputs": [],
   "source": [
    "# 2. What is the result of the code, and explain?"
   ]
  },
  {
   "cell_type": "markdown",
   "id": "3e2d3bcd",
   "metadata": {},
   "source": [
    "### Solution -"
   ]
  },
  {
   "cell_type": "code",
   "execution_count": 13,
   "id": "5b9738e8",
   "metadata": {},
   "outputs": [
    {
     "name": "stdout",
     "output_type": "stream",
     "text": [
      "NI!\n"
     ]
    }
   ],
   "source": [
    "def func():\n",
    "    X = 'NI!'\n",
    "    print(X)\n",
    "func()"
   ]
  },
  {
   "cell_type": "code",
   "execution_count": null,
   "id": "13c5597b",
   "metadata": {},
   "outputs": [],
   "source": [
    "'''\n",
    "The Result of this cide is NI!, because the function initially looks for the variable X in its local scope if X is \n",
    "   not available then it checks for variable X in the global scope, Since here the X is present in the local scope. it \n",
    "   prints the value NI!\n",
    "'''"
   ]
  },
  {
   "cell_type": "markdown",
   "id": "46f307ca",
   "metadata": {},
   "source": [
    "### 3. Problem"
   ]
  },
  {
   "cell_type": "code",
   "execution_count": null,
   "id": "4ec46cc1",
   "metadata": {},
   "outputs": [],
   "source": [
    "# 3. What does this code print, and why?"
   ]
  },
  {
   "cell_type": "markdown",
   "id": "3d13a01f",
   "metadata": {},
   "source": [
    "### Solution -"
   ]
  },
  {
   "cell_type": "code",
   "execution_count": 14,
   "id": "6af683bc",
   "metadata": {},
   "outputs": [
    {
     "name": "stdout",
     "output_type": "stream",
     "text": [
      "NI\n",
      "iNeuron\n"
     ]
    }
   ],
   "source": [
    "X = 'iNeuron'\n",
    "def func():\n",
    "    X = 'NI'\n",
    "    print(X)\n",
    "func()\n",
    "print(X)"
   ]
  },
  {
   "cell_type": "code",
   "execution_count": null,
   "id": "448bca1c",
   "metadata": {},
   "outputs": [],
   "source": [
    "'''\n",
    "The output of the code is NI and iNeuron. X=NI is in the local scope of the function func() hence the function prints\n",
    "the x value as NI. X = 'iNeuron' is in the global scope. hence print(X) prints output as iNeuron\n",
    "'''"
   ]
  },
  {
   "cell_type": "code",
   "execution_count": null,
   "id": "37480963",
   "metadata": {},
   "outputs": [],
   "source": [
    "4. What output does this code produce? Why"
   ]
  },
  {
   "cell_type": "code",
   "execution_count": 18,
   "id": "bceb4514",
   "metadata": {},
   "outputs": [],
   "source": [
    "X = 'iNeuron'\n",
    "def func():\n",
    "    global X\n",
    "    X = 'NI'\n",
    "func()\n"
   ]
  },
  {
   "cell_type": "code",
   "execution_count": 19,
   "id": "c36c3a95",
   "metadata": {},
   "outputs": [
    {
     "name": "stdout",
     "output_type": "stream",
     "text": [
      "NI\n"
     ]
    }
   ],
   "source": [
    "print(X)"
   ]
  },
  {
   "cell_type": "code",
   "execution_count": 20,
   "id": "1407e67e",
   "metadata": {},
   "outputs": [],
   "source": [
    "func()"
   ]
  },
  {
   "cell_type": "code",
   "execution_count": null,
   "id": "926b4b9c",
   "metadata": {},
   "outputs": [],
   "source": [
    "'''\n",
    "The output of the code is NI. the global keyword allows a variable to be accessible in the current scope. since we are \n",
    "using global keyword inside the function func it directly access the variable in X in global scope. and changes its value \n",
    "to NI. hence the output of the code is NI\n",
    "'''"
   ]
  },
  {
   "cell_type": "code",
   "execution_count": 21,
   "id": "2b63bfd1",
   "metadata": {},
   "outputs": [],
   "source": [
    "# 5. What about this code—what’s the output, and why?"
   ]
  },
  {
   "cell_type": "code",
   "execution_count": 22,
   "id": "6dc2bf13",
   "metadata": {},
   "outputs": [
    {
     "name": "stdout",
     "output_type": "stream",
     "text": [
      "NI\n"
     ]
    },
    {
     "data": {
      "text/plain": [
       "'iNeuron'"
      ]
     },
     "execution_count": 22,
     "metadata": {},
     "output_type": "execute_result"
    }
   ],
   "source": [
    "X = 'iNeuron'\n",
    "def func():\n",
    "    X = 'NI'\n",
    "    def nested():\n",
    "        print(X)\n",
    "    nested()\n",
    "func()\n",
    "X"
   ]
  },
  {
   "cell_type": "code",
   "execution_count": null,
   "id": "2ffd5510",
   "metadata": {},
   "outputs": [],
   "source": [
    "'''\n",
    "The output of the code is NI. the reason for this output is if a function wants to access a variable, if its not \n",
    "available in its localscope. it looks for the variable in its global scope. similarly here also function nested looks \n",
    "for variable X in its global scope. hence the output of the code is NI\n",
    "'''"
   ]
  },
  {
   "cell_type": "code",
   "execution_count": 23,
   "id": "6ff27701",
   "metadata": {},
   "outputs": [],
   "source": [
    "# 6. How about this code: what is its output in Python 3, and explain?"
   ]
  },
  {
   "cell_type": "code",
   "execution_count": 24,
   "id": "d8ddd6b6",
   "metadata": {},
   "outputs": [
    {
     "name": "stdout",
     "output_type": "stream",
     "text": [
      "Spam\n"
     ]
    }
   ],
   "source": [
    "def func():\n",
    "    X = 'NI'\n",
    "    def nested():\n",
    "        nonlocal X\n",
    "        X = 'Spam'\n",
    "    nested()\n",
    "    print(X)\n",
    "func()"
   ]
  },
  {
   "cell_type": "code",
   "execution_count": null,
   "id": "ff729532",
   "metadata": {},
   "outputs": [],
   "source": [
    "'''\n",
    "The output of the code is Spam. nonlocal keyword in python is used to declare a variable as not local.Hence the \n",
    "statement X = \"Spam\" is modified in the global scope. hence the output of print(X) statement is Spam\n",
    "'''"
   ]
  }
 ],
 "metadata": {
  "kernelspec": {
   "display_name": "Python 3",
   "language": "python",
   "name": "python3"
  },
  "language_info": {
   "codemirror_mode": {
    "name": "ipython",
    "version": 3
   },
   "file_extension": ".py",
   "mimetype": "text/x-python",
   "name": "python",
   "nbconvert_exporter": "python",
   "pygments_lexer": "ipython3",
   "version": "3.8.8"
  }
 },
 "nbformat": 4,
 "nbformat_minor": 5
}
