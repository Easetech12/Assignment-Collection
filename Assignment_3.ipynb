{
 "cells": [
  {
   "cell_type": "code",
   "execution_count": 2,
   "id": "aba164a7",
   "metadata": {},
   "outputs": [],
   "source": [
    "# 1. Why are functions advantageous to have in your programs?"
   ]
  },
  {
   "cell_type": "markdown",
   "id": "04a06e92",
   "metadata": {},
   "source": [
    "Functions reduce the need for duplicate code. This makes programs shorter, easier to read, and easier to update."
   ]
  },
  {
   "cell_type": "code",
   "execution_count": 3,
   "id": "391d5555",
   "metadata": {},
   "outputs": [],
   "source": [
    "# 2. When does the code in a function run: when it's specified or when it's called?"
   ]
  },
  {
   "cell_type": "markdown",
   "id": "8faabf9f",
   "metadata": {},
   "source": [
    "The code inside a function is not executed when the function is defined. The code inside a function is executed when the function is invoked. It is common to use the term \"call a function\" instead of \"invoke a function\". It is also common to say \"call upon a function\", \"start a function\", or \"execute a function\"."
   ]
  },
  {
   "cell_type": "code",
   "execution_count": 4,
   "id": "0822e3d5",
   "metadata": {},
   "outputs": [],
   "source": [
    "# 3. What statement creates a function?"
   ]
  },
  {
   "cell_type": "markdown",
   "id": "1bf4a7fc",
   "metadata": {},
   "source": [
    "The “def” keyword is a statement for defining a function in Python. You start a function with the def keyword, specify a name followed by a colon (:) sign. The “def” call creates the function object and assigns it to the name given. You can further re-assign the same function object to other names."
   ]
  },
  {
   "cell_type": "code",
   "execution_count": 5,
   "id": "7c8b016b",
   "metadata": {},
   "outputs": [],
   "source": [
    "# 4. What is the difference between a function and a function call?"
   ]
  },
  {
   "cell_type": "markdown",
   "id": "80ce9083",
   "metadata": {},
   "source": [
    "A function is a piece of code which enhanced the reusability and modularity of your program. It means that piece of code need not be written again. A function call means invoking or calling that function. Unless a function is called there is no use of that function."
   ]
  },
  {
   "cell_type": "code",
   "execution_count": 6,
   "id": "c090743d",
   "metadata": {},
   "outputs": [],
   "source": [
    "# 5. How many global scopes are there in a Python program? How many local scopes?"
   ]
  },
  {
   "cell_type": "markdown",
   "id": "96ed4ac0",
   "metadata": {},
   "source": [
    "There's only one global Python scope per program execution. This scope remains in existence until the program terminates and all its names are forgotten.\n",
    "The scope of global variables is the entire program whereas the scope of local variable is limited to the function where it is defined."
   ]
  },
  {
   "cell_type": "code",
   "execution_count": 7,
   "id": "7e60bc5b",
   "metadata": {},
   "outputs": [],
   "source": [
    "# 6. What happens to variables in a local scope when the function call returns?"
   ]
  },
  {
   "cell_type": "markdown",
   "id": "1d551865",
   "metadata": {},
   "source": [
    "A local variable retains its value until the next time the function is called A local variable becomes undefined after the function call completes "
   ]
  },
  {
   "cell_type": "code",
   "execution_count": 8,
   "id": "e3545d5a",
   "metadata": {},
   "outputs": [],
   "source": [
    "# 7. What is the concept of a return value? Is it possible to have a return value in an expression?"
   ]
  },
  {
   "cell_type": "markdown",
   "id": "5b17eda0",
   "metadata": {},
   "source": [
    "In general, a function takes arguments (if any), performs some operations, and returns a value (or object). The value that a function returns to the caller is generally known as the function's return value. All Python functions have a return value, either explicit or implicit. No, There is no return value in an expression."
   ]
  },
  {
   "cell_type": "code",
   "execution_count": 9,
   "id": "d6ffe687",
   "metadata": {},
   "outputs": [],
   "source": [
    "# 8. If a function does not have a return statement, what is the return value of a call to that function?"
   ]
  },
  {
   "cell_type": "markdown",
   "id": "57924d14",
   "metadata": {},
   "source": [
    "A function without an explicit return statement returns None . In the case of no arguments and no return value, the definition is very simple. Calling the function is performed by using the call operator () after the name of the function."
   ]
  },
  {
   "cell_type": "code",
   "execution_count": 10,
   "id": "f9092196",
   "metadata": {},
   "outputs": [],
   "source": [
    "# 9. How do you make a function variable refer to the global variable?"
   ]
  },
  {
   "cell_type": "markdown",
   "id": "b0ab5617",
   "metadata": {},
   "source": [
    "If you want to refer to a global variable in a function, you can use the global keyword to declare which variables are global."
   ]
  },
  {
   "cell_type": "code",
   "execution_count": 11,
   "id": "4bac14bb",
   "metadata": {},
   "outputs": [],
   "source": [
    "# 10. What is the data type of None?"
   ]
  },
  {
   "cell_type": "markdown",
   "id": "13a3a685",
   "metadata": {},
   "source": [
    "The None keyword is used to define a null value, or no value at all. None is not the same as 0, False, or an empty string. None is a data type of its own (NoneType) and only None can be None."
   ]
  },
  {
   "cell_type": "code",
   "execution_count": 12,
   "id": "777d1752",
   "metadata": {},
   "outputs": [],
   "source": [
    "# 11. What does the sentence import areallyourpetsnamederic do?"
   ]
  },
  {
   "cell_type": "markdown",
   "id": "8e85c1f0",
   "metadata": {},
   "source": [
    "That import statement imports a module named areallyourpetsnamederic."
   ]
  },
  {
   "cell_type": "code",
   "execution_count": 13,
   "id": "9103cbf9",
   "metadata": {},
   "outputs": [],
   "source": [
    "# 12. If you had a bacon() feature in a spam module, what would you call it after importing spam?"
   ]
  },
  {
   "cell_type": "markdown",
   "id": "9c52e28a",
   "metadata": {},
   "source": [
    "spam.bacon()"
   ]
  },
  {
   "cell_type": "code",
   "execution_count": 15,
   "id": "732b1fc7",
   "metadata": {},
   "outputs": [],
   "source": [
    "# 13. What can you do to save a programme from crashing if it encounters an error?"
   ]
  },
  {
   "cell_type": "markdown",
   "id": "a5d29dc2",
   "metadata": {},
   "source": [
    "When it encounters an error, the control is passed to the except block, skipping the code in between.\n",
    "Try running the program and it should throw an error message instead of crashing the program."
   ]
  },
  {
   "cell_type": "code",
   "execution_count": 16,
   "id": "dcd6a370",
   "metadata": {},
   "outputs": [],
   "source": [
    "# 14. What is the purpose of the try clause? What is the purpose of the except clause?"
   ]
  },
  {
   "cell_type": "markdown",
   "id": "e36920b1",
   "metadata": {},
   "source": [
    "The try block lets you test a block of code for errors. The except block lets you handle the error. The else block lets you execute code when there is no error. The finally block lets you execute code, regardless of the result of the try- and except blocks."
   ]
  },
  {
   "cell_type": "code",
   "execution_count": null,
   "id": "5fd1a934",
   "metadata": {},
   "outputs": [],
   "source": []
  }
 ],
 "metadata": {
  "kernelspec": {
   "display_name": "Python 3",
   "language": "python",
   "name": "python3"
  },
  "language_info": {
   "codemirror_mode": {
    "name": "ipython",
    "version": 3
   },
   "file_extension": ".py",
   "mimetype": "text/x-python",
   "name": "python",
   "nbconvert_exporter": "python",
   "pygments_lexer": "ipython3",
   "version": "3.8.8"
  }
 },
 "nbformat": 4,
 "nbformat_minor": 5
}
