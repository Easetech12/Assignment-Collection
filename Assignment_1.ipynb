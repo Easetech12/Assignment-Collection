{
 "cells": [
  {
   "cell_type": "code",
   "execution_count": 15,
   "id": "7d35fb93",
   "metadata": {},
   "outputs": [
    {
     "data": {
      "text/plain": [
       "\"'hello'\\n-87.8\\n-\\n/\\n+\\n6\""
      ]
     },
     "execution_count": 15,
     "metadata": {},
     "output_type": "execute_result"
    }
   ],
   "source": [
    "#1. In the below elements which of them are values or an expression? eg:- \n",
    "# values can be integer or string and expressions will be mathematical operators.*\n",
    "\"\"\"'hello'\n",
    "-87.8\n",
    "-\n",
    "/\n",
    "+\n",
    "6\"\"\""
   ]
  },
  {
   "cell_type": "markdown",
   "id": "bdc80070",
   "metadata": {},
   "source": [
    "### SOLUTION -> values - 'hello', -87.8, 6\n",
    "###             expression - *, -, /, +"
   ]
  },
  {
   "cell_type": "code",
   "execution_count": 1,
   "id": "e6b21049",
   "metadata": {},
   "outputs": [],
   "source": [
    "# 2. What is the difference between string and variable? "
   ]
  },
  {
   "cell_type": "markdown",
   "id": "5eb98128",
   "metadata": {},
   "source": [
    "####  Solution - String is a alphanumeric or character variable. They are treated as text. \n",
    "####                    Variables are the names one give to computer main memory (RAM) location which are used to store values in a computer program."
   ]
  },
  {
   "cell_type": "code",
   "execution_count": 3,
   "id": "b0707fbf",
   "metadata": {},
   "outputs": [],
   "source": [
    "#3.Describe three different data types."
   ]
  },
  {
   "cell_type": "markdown",
   "id": "a0cdb52a",
   "metadata": {},
   "source": [
    "### Three different data types are :\n",
    "####  Integer - They are zero, positive or  negative whole number with no decimal number .\n",
    "####  Float - The number which is not an integer and includes a fraction represented in decimal format. \n",
    "#### String - String is a alphanumeric or character variable. They are treated as text.¶"
   ]
  },
  {
   "cell_type": "code",
   "execution_count": 16,
   "id": "2803846f",
   "metadata": {},
   "outputs": [],
   "source": [
    "# 4. What is an expression made up of? What do all expressions do?"
   ]
  },
  {
   "cell_type": "markdown",
   "id": "a79317c2",
   "metadata": {},
   "source": [
    "####  An expression is made up of operators and operand.\n",
    "#### Anything that does something is a statement. Any assignment to a variable or function call is a statement.\n",
    "#### Any value contained in that statement in an expression."
   ]
  },
  {
   "cell_type": "code",
   "execution_count": 17,
   "id": "71c5e67e",
   "metadata": {},
   "outputs": [],
   "source": [
    "# 5. This assignment statements, like spam = 10. What is the difference between an\n",
    "# expression and a statement?"
   ]
  },
  {
   "cell_type": "markdown",
   "id": "e94eddd7",
   "metadata": {},
   "source": [
    "#### Statements represent an action or command e.g print statements, assignment statements like spam = 10\n",
    "#### Expression is a combination of variables, operations and values that yields a result value. "
   ]
  },
  {
   "cell_type": "code",
   "execution_count": 18,
   "id": "5eb12903",
   "metadata": {},
   "outputs": [
    {
     "data": {
      "text/plain": [
       "23"
      ]
     },
     "execution_count": 18,
     "metadata": {},
     "output_type": "execute_result"
    }
   ],
   "source": [
    "# 6. After running the following code, what does the variable bacon contain?\n",
    "bacon = 22\n",
    "bacon + 1"
   ]
  },
  {
   "cell_type": "code",
   "execution_count": 19,
   "id": "45807f23",
   "metadata": {},
   "outputs": [
    {
     "data": {
      "text/plain": [
       "22"
      ]
     },
     "execution_count": 19,
     "metadata": {},
     "output_type": "execute_result"
    }
   ],
   "source": [
    "bacon"
   ]
  },
  {
   "cell_type": "markdown",
   "id": "3471d37b",
   "metadata": {},
   "source": [
    "##### It will contain the same value i.e. bacon = 22"
   ]
  },
  {
   "cell_type": "code",
   "execution_count": 10,
   "id": "dc94499a",
   "metadata": {},
   "outputs": [],
   "source": [
    "# 7. What should the values of the following two terms be?\n",
    "# 'spam' + 'spamspam'\n",
    "# 'spam' * 3"
   ]
  },
  {
   "cell_type": "code",
   "execution_count": 23,
   "id": "3e8677e7",
   "metadata": {},
   "outputs": [
    {
     "name": "stdout",
     "output_type": "stream",
     "text": [
      "spamspamspam\n",
      "spamspamspam\n"
     ]
    }
   ],
   "source": [
    "print('spam' + 'spamspam')\n",
    "print('spam' * 3)"
   ]
  },
  {
   "cell_type": "code",
   "execution_count": 11,
   "id": "cdd7f461",
   "metadata": {},
   "outputs": [],
   "source": [
    "# 8. Why is eggs a valid variable name while 100 is invalid?"
   ]
  },
  {
   "cell_type": "markdown",
   "id": "cc91ad8d",
   "metadata": {},
   "source": [
    "#### Because variable names cannot begin with a number."
   ]
  },
  {
   "cell_type": "code",
   "execution_count": 12,
   "id": "9e4d1cee",
   "metadata": {},
   "outputs": [],
   "source": [
    "# 9. What three functions can be used to get the integer, floating-point number, or string\n",
    "# version of a value?"
   ]
  },
  {
   "cell_type": "markdown",
   "id": "6c26c27f",
   "metadata": {},
   "source": [
    "#### int() , float() , and str( )"
   ]
  },
  {
   "cell_type": "code",
   "execution_count": null,
   "id": "f343eae9",
   "metadata": {},
   "outputs": [],
   "source": [
    "# 10. Why does this expression cause an error? How can you fix it?\n",
    "# \"I have eaten\" + 99 + \"burritos\""
   ]
  },
  {
   "cell_type": "markdown",
   "id": "05889888",
   "metadata": {},
   "source": [
    "#### Because \"I have eaten\" & \"burritos are strings but 99 is an integer. And 99 as an integer can not be concatenate. So we will use Typecasting constructor function str()"
   ]
  },
  {
   "cell_type": "code",
   "execution_count": 25,
   "id": "6ff72841",
   "metadata": {},
   "outputs": [
    {
     "data": {
      "text/plain": [
       "'I have eaten 99 burritos'"
      ]
     },
     "execution_count": 25,
     "metadata": {},
     "output_type": "execute_result"
    }
   ],
   "source": [
    "\"I have eaten \" + \"99\" + \" burritos\""
   ]
  }
 ],
 "metadata": {
  "kernelspec": {
   "display_name": "Python 3",
   "language": "python",
   "name": "python3"
  },
  "language_info": {
   "codemirror_mode": {
    "name": "ipython",
    "version": 3
   },
   "file_extension": ".py",
   "mimetype": "text/x-python",
   "name": "python",
   "nbconvert_exporter": "python",
   "pygments_lexer": "ipython3",
   "version": "3.8.8"
  }
 },
 "nbformat": 4,
 "nbformat_minor": 5
}
