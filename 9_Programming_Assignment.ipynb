{
 "cells": [
  {
   "cell_type": "code",
   "execution_count": null,
   "id": "30d396d9",
   "metadata": {},
   "outputs": [],
   "source": [
    "1.\tWrite a Python program to check if the given number is a Disarium Number?"
   ]
  },
  {
   "cell_type": "code",
   "execution_count": 1,
   "id": "a2c2f882",
   "metadata": {},
   "outputs": [
    {
     "name": "stdout",
     "output_type": "stream",
     "text": [
      "175 is a disarium number\n"
     ]
    }
   ],
   "source": [
    "#calculateLength() will count the digits present in a number    \n",
    "def calculateLength(n):    \n",
    "    length = 0;    \n",
    "    while(n != 0):    \n",
    "        length = length + 1;    \n",
    "        n = n//10;    \n",
    "    return length;    \n",
    "     \n",
    "num = 175;    \n",
    "rem = sum = 0;    \n",
    "len = calculateLength(num);    \n",
    "     \n",
    "#Makes a copy of the original number num    \n",
    "n = num;    \n",
    "     \n",
    "#Calculates the sum of digits powered with their respective position    \n",
    "while(num > 0):    \n",
    "    rem = num%10;    \n",
    "    sum = sum + int(rem**len);    \n",
    "    num = num//10;    \n",
    "    len = len - 1;    \n",
    "     \n",
    "#Checks whether the sum is equal to the number itself    \n",
    "if(sum == n):    \n",
    "    print(str(n) + \" is a disarium number\");    \n",
    "else:    \n",
    "    print(str(n) + \" is not a disarium number\"); "
   ]
  },
  {
   "cell_type": "code",
   "execution_count": null,
   "id": "34812de0",
   "metadata": {},
   "outputs": [],
   "source": [
    "2.\tWrite a Python program to print all disarium numbers between 1 to 100?"
   ]
  },
  {
   "cell_type": "code",
   "execution_count": 2,
   "id": "90d651f8",
   "metadata": {},
   "outputs": [
    {
     "name": "stdout",
     "output_type": "stream",
     "text": [
      "Disarium numbers between 1 and 100 are\n",
      "1\n",
      "2\n",
      "3\n",
      "4\n",
      "5\n",
      "6\n",
      "7\n",
      "8\n",
      "9\n",
      "89\n"
     ]
    }
   ],
   "source": [
    "#calculateLength() will count the digits present in a number    \n",
    "def calculateLength(n):    \n",
    "    length = 0;    \n",
    "    while(n != 0):    \n",
    "        length = length + 1;    \n",
    "        n = n//10;    \n",
    "    return length;    \n",
    "     \n",
    "#sumOfDigits() calculates the sum of digits powered with their respective position    \n",
    "def sumOfDigits(num):    \n",
    "    rem = sum = 0;    \n",
    "    len = calculateLength(num);    \n",
    "        \n",
    "    while(num > 0):    \n",
    "        rem = num%10;    \n",
    "        sum = sum + (rem**len);    \n",
    "        num = num//10;    \n",
    "        len = len - 1;    \n",
    "    return sum;    \n",
    "      \n",
    "result = 0;    \n",
    "     \n",
    "#Displays all disarium numbers between 1 and 100    \n",
    "print(\"Disarium numbers between 1 and 100 are\");    \n",
    "for i in range(1, 101):    \n",
    "    result = sumOfDigits(i);    \n",
    "        \n",
    "    if(result == i):    \n",
    "        print(i),    "
   ]
  },
  {
   "attachments": {
    "Happy%20Number.svg": {
     "image/svg+xml": [
      "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"
     ]
    }
   },
   "cell_type": "markdown",
   "id": "8a266cdf",
   "metadata": {},
   "source": [
    "![Happy%20Number.svg](attachment:Happy%20Number.svg)"
   ]
  },
  {
   "attachments": {
    "Happy%20Number%201.png": {
     "image/png": "[encoded data removed]"
    }
   },
   "cell_type": "markdown",
   "id": "e271136a",
   "metadata": {},
   "source": [
    "![Happy%20Number%201.png](attachment:Happy%20Number%201.png)"
   ]
  },
  {
   "cell_type": "code",
   "execution_count": null,
   "id": "2e01a4c3",
   "metadata": {},
   "outputs": [],
   "source": [
    "3.\tWrite a Python program to check if the given number is Happy Number?"
   ]
  },
  {
   "cell_type": "code",
   "execution_count": 8,
   "id": "6bfc6417",
   "metadata": {},
   "outputs": [
    {
     "name": "stdout",
     "output_type": "stream",
     "text": [
      "82 is a happy number\n"
     ]
    }
   ],
   "source": [
    "#isHappyNumber() will determine whether a number is happy or not    \n",
    "def isHappyNumber(num):    \n",
    "    rem = sum = 0;    \n",
    "        \n",
    "    #Calculates the sum of squares of digits    \n",
    "    while(num > 0):    \n",
    "        rem = num%10;    \n",
    "        sum = sum + (rem*rem);    \n",
    "        num = num//10;    \n",
    "    return sum;    \n",
    "        \n",
    "num = 82;    \n",
    "result = num;    \n",
    "     \n",
    "while(result != 1 and result != 4):    \n",
    "    result = isHappyNumber(result);    \n",
    "     \n",
    "#Happy number always ends with 1    \n",
    "if(result == 1):    \n",
    "    print(str(num) + \" is a happy number\");    \n",
    "#Unhappy number ends in a cycle of repeating numbers which contain 4    \n",
    "elif(result == 4):    \n",
    "    print(str(num) + \" is not a happy number\");   "
   ]
  },
  {
   "cell_type": "code",
   "execution_count": null,
   "id": "55f55a7c",
   "metadata": {},
   "outputs": [],
   "source": [
    "4.\tWrite a Python program to print all happy numbers between 1 and 100?"
   ]
  },
  {
   "cell_type": "code",
   "execution_count": 9,
   "id": "9a025f14",
   "metadata": {},
   "outputs": [
    {
     "name": "stdout",
     "output_type": "stream",
     "text": [
      "List of happy numbers between 1 and 100: \n",
      "1\n",
      " \n",
      "7\n",
      " \n",
      "10\n",
      " \n",
      "13\n",
      " \n",
      "19\n",
      " \n",
      "23\n",
      " \n",
      "28\n",
      " \n",
      "31\n",
      " \n",
      "32\n",
      " \n",
      "44\n",
      " \n",
      "49\n",
      " \n",
      "68\n",
      " \n",
      "70\n",
      " \n",
      "79\n",
      " \n",
      "82\n",
      " \n",
      "86\n",
      " \n",
      "91\n",
      " \n",
      "94\n",
      " \n",
      "97\n",
      " \n",
      "100\n",
      " \n"
     ]
    }
   ],
   "source": [
    "#isHappyNumber() will determine whether a number is happy or not    \n",
    "def isHappyNumber(num):    \n",
    "    rem = sum = 0;    \n",
    "        \n",
    "    #Calculates the sum of squares of digits    \n",
    "    while(num > 0):    \n",
    "        rem = num%10;    \n",
    "        sum = sum + (rem*rem);    \n",
    "        num = num//10;    \n",
    "    return sum;    \n",
    "            \n",
    "#Displays all happy numbers between 1 and 100    \n",
    "print(\"List of happy numbers between 1 and 100: \");    \n",
    "for i in range(1, 101):    \n",
    "    result = i;    \n",
    "        \n",
    "    #Happy number always ends with 1 and     \n",
    "    #unhappy number ends in a cycle of repeating numbers which contains 4    \n",
    "    while(result != 1 and result != 4):    \n",
    "        result = isHappyNumber(result);    \n",
    "        \n",
    "    if(result == 1):    \n",
    "        print(i),    \n",
    "        print(\" \")"
   ]
  },
  {
   "cell_type": "code",
   "execution_count": null,
   "id": "6e264f4a",
   "metadata": {},
   "outputs": [],
   "source": [
    "5.\tWrite a Python program to determine whether the given number is a Harshad Number?"
   ]
  },
  {
   "cell_type": "code",
   "execution_count": 10,
   "id": "e8f3667d",
   "metadata": {},
   "outputs": [
    {
     "name": "stdout",
     "output_type": "stream",
     "text": [
      "156 is a harshad number\n"
     ]
    }
   ],
   "source": [
    "num = 156;    \n",
    "rem = sum = 0;    \n",
    "     \n",
    "#Make a copy of num and store it in variable n    \n",
    "n = num;    \n",
    "     \n",
    "#Calculates sum of digits    \n",
    "while(num > 0):    \n",
    "    rem = num%10;    \n",
    "    sum = sum + rem;    \n",
    "    num = num//10;    \n",
    "     \n",
    "#Checks whether the number is divisible by the sum of digits    \n",
    "if(n%sum == 0):    \n",
    "    print(str(n) + \" is a harshad number\");    \n",
    "else:    \n",
    "    print(str(n) + \" is not a harshad number\");    "
   ]
  },
  {
   "cell_type": "code",
   "execution_count": null,
   "id": "bb6fbeb1",
   "metadata": {},
   "outputs": [],
   "source": [
    "6.\tWrite a Python program to print all pronic numbers between 1 and 100?"
   ]
  },
  {
   "cell_type": "code",
   "execution_count": 11,
   "id": "53497b7a",
   "metadata": {},
   "outputs": [
    {
     "name": "stdout",
     "output_type": "stream",
     "text": [
      "Pronic numbers between 1 and 100: \n",
      "2\n",
      " \n",
      "6\n",
      " \n",
      "12\n",
      " \n",
      "20\n",
      " \n",
      "30\n",
      " \n",
      "42\n",
      " \n",
      "56\n",
      " \n",
      "72\n",
      " \n",
      "90\n",
      " \n"
     ]
    }
   ],
   "source": [
    "#isPronicNumber() will determine whether a given number is a pronic number or not    \n",
    "def isPronicNumber(num):    \n",
    "    flag = False;    \n",
    "        \n",
    "    for j in range(1, num+1):    \n",
    "        #Checks for pronic number by multiplying consecutive numbers    \n",
    "        if((j*(j+1)) == num):    \n",
    "            flag = True;    \n",
    "            break;    \n",
    "    return flag;    \n",
    "     \n",
    "#Displays pronic numbers between 1 and 100    \n",
    "print(\"Pronic numbers between 1 and 100: \");    \n",
    "for i in range(1, 101):    \n",
    "    if(isPronicNumber(i)):    \n",
    "        print(i),    \n",
    "        print(\" \"),    "
   ]
  }
 ],
 "metadata": {
  "kernelspec": {
   "display_name": "Python 3",
   "language": "python",
   "name": "python3"
  },
  "language_info": {
   "codemirror_mode": {
    "name": "ipython",
    "version": 3
   },
   "file_extension": ".py",
   "mimetype": "text/x-python",
   "name": "python",
   "nbconvert_exporter": "python",
   "pygments_lexer": "ipython3",
   "version": "3.8.8"
  }
 },
 "nbformat": 4,
 "nbformat_minor": 5
}
