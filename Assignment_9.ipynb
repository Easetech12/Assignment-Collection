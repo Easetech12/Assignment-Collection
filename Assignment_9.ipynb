{
 "cells": [
  {
   "cell_type": "code",
   "execution_count": 1,
   "id": "30bcae67",
   "metadata": {},
   "outputs": [],
   "source": [
    "# 1. To what does a relative path refer?"
   ]
  },
  {
   "cell_type": "markdown",
   "id": "a47f221a",
   "metadata": {},
   "source": [
    "A relative path refers to a location that is relative to a current directory. Relative paths make use of two special symbols, a dot (.) and a double-dot (..), which translate into the current directory and the parent directory. Double dots are used for moving up in the hierarchy.\n",
    "example - "
   ]
  },
  {
   "cell_type": "markdown",
   "id": "5cd31772",
   "metadata": {},
   "source": [
    "calc.exe"
   ]
  },
  {
   "cell_type": "code",
   "execution_count": 1,
   "id": "4cad4f87",
   "metadata": {},
   "outputs": [],
   "source": [
    "# 2. What does an absolute path start with your operating system?"
   ]
  },
  {
   "cell_type": "markdown",
   "id": "0b119552",
   "metadata": {},
   "source": [
    "An absolute path refers to the complete details needed to locate a file or folder, starting from the root element and ending with the other subdirectories. Absolute paths are used in websites and operating systems for locating files and folders. An absolute path is also known as an absolute pathname or full path."
   ]
  },
  {
   "cell_type": "markdown",
   "id": "0b8dbe21",
   "metadata": {},
   "source": [
    "C:\\Windows\\calc.exe"
   ]
  },
  {
   "cell_type": "code",
   "execution_count": 1,
   "id": "9211bb57",
   "metadata": {},
   "outputs": [],
   "source": [
    "# 3. What do the functions os.getcwd() and os.chdir() do?"
   ]
  },
  {
   "cell_type": "markdown",
   "id": "2390d84f",
   "metadata": {},
   "source": [
    "getcwd() : CWD stands for Current Working Directory. This function allows you to see what your current working directory is. chdir(\"path-to-dir\") : Short for CHange DIRectory, this function allows you to set the current working directory to a path of your choice."
   ]
  },
  {
   "cell_type": "code",
   "execution_count": 2,
   "id": "9f995190",
   "metadata": {},
   "outputs": [],
   "source": [
    "# 4. What are the . and .. folders?"
   ]
  },
  {
   "cell_type": "markdown",
   "id": "dcb1262b",
   "metadata": {},
   "source": [
    "The . is the current directory, while .. signifies the parent directory."
   ]
  },
  {
   "cell_type": "markdown",
   "id": "e79e674a",
   "metadata": {},
   "source": [
    "go up 2 directories:"
   ]
  },
  {
   "cell_type": "markdown",
   "id": "8e2ac58a",
   "metadata": {},
   "source": [
    "cd ..\\\\\\..\\"
   ]
  },
  {
   "cell_type": "code",
   "execution_count": 3,
   "id": "55fa2bc0",
   "metadata": {},
   "outputs": [],
   "source": [
    "# 5. In C:\\bacon\\eggs\\spam.txt, which part is the dir name, and which part is the base name?"
   ]
  },
  {
   "cell_type": "markdown",
   "id": "641f7e61",
   "metadata": {},
   "source": [
    "In C:\\bacon\\eggs\\spam. txt, which part is the dir name, and which part is the base name? C:\\bacon\\eggs is the dir name, while spam. txt is the base name."
   ]
  },
  {
   "cell_type": "code",
   "execution_count": 4,
   "id": "2a476735",
   "metadata": {},
   "outputs": [],
   "source": [
    "# 6. What are the three “mode” arguments that can be passed to the open() function?"
   ]
  },
  {
   "cell_type": "markdown",
   "id": "b06c959e",
   "metadata": {},
   "source": [
    "r : Opens the file in read-only mode."
   ]
  },
  {
   "cell_type": "markdown",
   "id": "d7672cf6",
   "metadata": {},
   "source": [
    "rb : Opens the file as read-only in binary format and starts reading from the beginning of the file."
   ]
  },
  {
   "cell_type": "markdown",
   "id": "e4406e10",
   "metadata": {},
   "source": [
    "r+ : Opens a file for reading and writing, placing the pointer at the beginning of the file."
   ]
  },
  {
   "cell_type": "code",
   "execution_count": 6,
   "id": "24d8995d",
   "metadata": {},
   "outputs": [],
   "source": [
    "# 7. What happens if an existing file is opened in write mode?"
   ]
  },
  {
   "cell_type": "markdown",
   "id": "303b74fb",
   "metadata": {},
   "source": [
    "To open a file in write mode, “w” is specified. When mode “w” is specified, it creates an empty file for output operations. What if the file already exists? If a file with the same name already exists, its contents are discarded and the file is treated as a new empty file."
   ]
  },
  {
   "cell_type": "code",
   "execution_count": 7,
   "id": "6717f75b",
   "metadata": {},
   "outputs": [],
   "source": [
    "# 8. How do you tell the difference between read() and readlines()?"
   ]
  },
  {
   "cell_type": "markdown",
   "id": "24b41c9d",
   "metadata": {},
   "source": [
    "The main difference is that read() will read the whole file at once and then print out the first characters that take up as many bytes as you specify in the parenthesis versus the readline() that will read and print out only the first characters that take up as many bytes as you specify in the parenthesis."
   ]
  },
  {
   "cell_type": "code",
   "execution_count": null,
   "id": "9557e1e0",
   "metadata": {},
   "outputs": [],
   "source": []
  },
  {
   "cell_type": "markdown",
   "id": "059daed7",
   "metadata": {},
   "source": [
    "A shelf value resembles a dictionary value; it has keys and values, along with keys() and values() methods that work similarly to the dictionary methods of the same names."
   ]
  },
  {
   "cell_type": "code",
   "execution_count": null,
   "id": "d2a8d8ac",
   "metadata": {},
   "outputs": [],
   "source": []
  }
 ],
 "metadata": {
  "kernelspec": {
   "display_name": "Python 3",
   "language": "python",
   "name": "python3"
  },
  "language_info": {
   "codemirror_mode": {
    "name": "ipython",
    "version": 3
   },
   "file_extension": ".py",
   "mimetype": "text/x-python",
   "name": "python",
   "nbconvert_exporter": "python",
   "pygments_lexer": "ipython3",
   "version": "3.8.8"
  }
 },
 "nbformat": 4,
 "nbformat_minor": 5
}
