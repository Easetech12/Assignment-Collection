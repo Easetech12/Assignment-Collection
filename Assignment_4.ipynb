{
 "cells": [
  {
   "cell_type": "code",
   "execution_count": 1,
   "id": "63a5e1d9",
   "metadata": {},
   "outputs": [],
   "source": [
    "# 1. What exactly is []?"
   ]
  },
  {
   "cell_type": "markdown",
   "id": "0f3b76b4",
   "metadata": {},
   "source": [
    "The empty list value, which is a list value that contains no items."
   ]
  },
  {
   "cell_type": "code",
   "execution_count": 2,
   "id": "38797fca",
   "metadata": {},
   "outputs": [],
   "source": [
    "# 2. In a list of values stored in a variable called spam, how would you assign the value 'hello' as the third value?\n",
    "# (Assume [2, 4, 6, 8, 10] are in spam.) Let's pretend the spam includes the list ['a', 'b', 'c', 'd'] for the next \n",
    "# three queries."
   ]
  },
  {
   "cell_type": "markdown",
   "id": "7c694324",
   "metadata": {},
   "source": [
    "spam = [2, 4, 6, 8, 10]\n",
    "\n",
    "\n",
    "spam[2] = 'hello'"
   ]
  },
  {
   "cell_type": "code",
   "execution_count": 3,
   "id": "9825449c",
   "metadata": {},
   "outputs": [],
   "source": [
    "# 3. What is the value of spam[int(int('3' * 2) / 11)]?"
   ]
  },
  {
   "cell_type": "markdown",
   "id": "b3b6ce1c",
   "metadata": {},
   "source": [
    "spam = ['a', 'b', 'c', 'd']\n",
    "\n",
    "spam[3]\n",
    "\n",
    "Answer would be 'd' from previous question."
   ]
  },
  {
   "cell_type": "code",
   "execution_count": 4,
   "id": "19d647f9",
   "metadata": {},
   "outputs": [],
   "source": [
    "# 4. What is the value of spam[-1]?"
   ]
  },
  {
   "cell_type": "markdown",
   "id": "b871cae3",
   "metadata": {},
   "source": [
    "Answer would be 'd' from previous question."
   ]
  },
  {
   "cell_type": "code",
   "execution_count": 5,
   "id": "af292a3e",
   "metadata": {},
   "outputs": [],
   "source": [
    "# 5. What is the value of spam[:2]?\n",
    "# Let's pretend bacon has the list [3.14, 'cat,' 11, 'cat,' True] for the next three questions."
   ]
  },
  {
   "cell_type": "markdown",
   "id": "3a63c16b",
   "metadata": {},
   "source": [
    "['a', 'b']"
   ]
  },
  {
   "cell_type": "code",
   "execution_count": 6,
   "id": "fa45abda",
   "metadata": {},
   "outputs": [],
   "source": [
    "# 6. What is the value of bacon.index('cat')?"
   ]
  },
  {
   "cell_type": "code",
   "execution_count": 25,
   "id": "be4b558f",
   "metadata": {},
   "outputs": [
    {
     "data": {
      "text/plain": [
       "1"
      ]
     },
     "execution_count": 25,
     "metadata": {},
     "output_type": "execute_result"
    }
   ],
   "source": [
    "bacon = [3.14, 'cat', 11, 'cat', True]\n",
    "bacon.index('cat')"
   ]
  },
  {
   "cell_type": "code",
   "execution_count": 7,
   "id": "57605a27",
   "metadata": {},
   "outputs": [],
   "source": [
    "# 7. How does bacon.append(99) change the look of the list value in bacon?"
   ]
  },
  {
   "cell_type": "code",
   "execution_count": 26,
   "id": "b18fea88",
   "metadata": {},
   "outputs": [
    {
     "data": {
      "text/plain": [
       "[3.14, 'cat', 11, 'cat', True, 99]"
      ]
     },
     "execution_count": 26,
     "metadata": {},
     "output_type": "execute_result"
    }
   ],
   "source": [
    "bacon.append(99)\n",
    "bacon"
   ]
  },
  {
   "cell_type": "code",
   "execution_count": 8,
   "id": "19a1f452",
   "metadata": {},
   "outputs": [],
   "source": [
    "# 8. How does bacon.remove('cat') change the look of the list in bacon?"
   ]
  },
  {
   "cell_type": "code",
   "execution_count": 27,
   "id": "c89dc52d",
   "metadata": {},
   "outputs": [
    {
     "data": {
      "text/plain": [
       "[3.14, 11, 'cat', True, 99]"
      ]
     },
     "execution_count": 27,
     "metadata": {},
     "output_type": "execute_result"
    }
   ],
   "source": [
    "bacon.remove('cat')\n",
    "bacon"
   ]
  },
  {
   "cell_type": "code",
   "execution_count": 9,
   "id": "5c8a5513",
   "metadata": {},
   "outputs": [],
   "source": [
    "# 9. What are the list concatenation and list replication operators?"
   ]
  },
  {
   "cell_type": "markdown",
   "id": "0af654bc",
   "metadata": {},
   "source": [
    "The operator for list concatenation is +, while the operator for replication is *."
   ]
  },
  {
   "cell_type": "code",
   "execution_count": 10,
   "id": "dce0ed3a",
   "metadata": {},
   "outputs": [],
   "source": [
    "# 10. What is difference between the list methods append() and insert()?"
   ]
  },
  {
   "cell_type": "markdown",
   "id": "07532bac",
   "metadata": {},
   "source": [
    "The only difference between append() and insert() is that insert function allows us to add a specific element at a specified index of the list unlike append() where we can add the element only at end of the list."
   ]
  },
  {
   "cell_type": "code",
   "execution_count": 11,
   "id": "7e16a20c",
   "metadata": {},
   "outputs": [],
   "source": [
    "# 11. What are the two methods for removing items from a list?"
   ]
  },
  {
   "cell_type": "markdown",
   "id": "9dcac206",
   "metadata": {},
   "source": [
    "The pop() method removes an element from the list based on the index given. The clear() method will remove all the elements present in the list."
   ]
  },
  {
   "cell_type": "code",
   "execution_count": 12,
   "id": "5f7816af",
   "metadata": {},
   "outputs": [],
   "source": [
    "# 12. Describe how list values and string values are identical."
   ]
  },
  {
   "cell_type": "markdown",
   "id": "5788d55b",
   "metadata": {},
   "source": [
    "Lists are similar to strings, which are ordered collections of characters, except that the elements of a list can have any type and for any one list, the items can be of different types. "
   ]
  },
  {
   "cell_type": "code",
   "execution_count": 13,
   "id": "355b89bf",
   "metadata": {},
   "outputs": [],
   "source": [
    "# 13. What's the difference between tuples and lists?"
   ]
  },
  {
   "cell_type": "markdown",
   "id": "1b0881f0",
   "metadata": {},
   "source": [
    "The key difference between the tuples and lists is that while the tuples are immutable objects the lists are mutable. This means that tuples cannot be changed while the lists can be modified. Tuples are more memory efficient than the lists."
   ]
  },
  {
   "cell_type": "code",
   "execution_count": 14,
   "id": "ebbfcfd9",
   "metadata": {},
   "outputs": [],
   "source": [
    "# 14. How do you type a tuple value that only contains the integer 42?"
   ]
  },
  {
   "cell_type": "markdown",
   "id": "49530c75",
   "metadata": {},
   "source": [
    "Also, tuples are written using parentheses, ( and ), while lists use the square brackets, [ and ]. How do you type the tuple value that has just the integer value 42 in it? (42,) (The trailing comma is mandatory.)"
   ]
  },
  {
   "cell_type": "code",
   "execution_count": 15,
   "id": "ccdea803",
   "metadata": {},
   "outputs": [],
   "source": [
    "# 15. How do you get a list value's tuple form? How do you get a tuple value's list form?"
   ]
  },
  {
   "cell_type": "code",
   "execution_count": null,
   "id": "455c0472",
   "metadata": {},
   "outputs": [],
   "source": [
    "\"\"\"\n",
    "### list into a tuple\n",
    "def convert(list):\n",
    "    return tuple(list)\n",
    "  \n",
    "#Driver function\n",
    "list = [1, 2, 3, 4]\n",
    "print(convert(list))\n",
    "\n",
    "\n",
    "#initialize tuple\n",
    "aTuple = (True, 28, 'Tiger')\n",
    "### tuple to list\n",
    "aList = list(aTuple)\n",
    " \n",
    "#print list\n",
    "print(type(aList))\n",
    "print(aList)\n",
    "\"\"\""
   ]
  },
  {
   "cell_type": "code",
   "execution_count": null,
   "id": "a3b28dcb",
   "metadata": {},
   "outputs": [],
   "source": [
    "# 16. Variables that \"contain\" list values are not necessarily lists themselves. Instead, what do they contain?"
   ]
  },
  {
   "cell_type": "markdown",
   "id": "d4c01682",
   "metadata": {},
   "source": [
    "Variables that \"contain\" list values are not necessarily lists themselves. They may additionally contain integer, string, float or boolean\n",
    "values."
   ]
  },
  {
   "cell_type": "code",
   "execution_count": null,
   "id": "bde495ca",
   "metadata": {},
   "outputs": [],
   "source": [
    "# 17. How do you distinguish between copy.copy() and copy.deepcopy()?"
   ]
  },
  {
   "cell_type": "markdown",
   "id": "732af5d5",
   "metadata": {},
   "source": [
    "copy() create reference to original object. If you change copied object - you change the original object. . deepcopy() creates new object and does real copying of original object to new one. Changing new deepcopied object doesn't affect original object."
   ]
  },
  {
   "attachments": {},
   "cell_type": "markdown",
   "id": "0907ae6b",
   "metadata": {},
   "source": []
  },
  {
   "cell_type": "code",
   "execution_count": null,
   "id": "bdf35bd4",
   "metadata": {},
   "outputs": [],
   "source": []
  }
 ],
 "metadata": {
  "kernelspec": {
   "display_name": "Python 3",
   "language": "python",
   "name": "python3"
  },
  "language_info": {
   "codemirror_mode": {
    "name": "ipython",
    "version": 3
   },
   "file_extension": ".py",
   "mimetype": "text/x-python",
   "name": "python",
   "nbconvert_exporter": "python",
   "pygments_lexer": "ipython3",
   "version": "3.8.8"
  }
 },
 "nbformat": 4,
 "nbformat_minor": 5
}
